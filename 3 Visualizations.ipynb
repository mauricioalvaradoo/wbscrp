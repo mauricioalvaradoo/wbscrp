{
 "cells": [
  {
   "cell_type": "markdown",
   "id": "8b2f5668-52c6-4aaa-8388-d9c77ec2046e",
   "metadata": {
    "tags": []
   },
   "source": [
    "## Visualizacion de articulos del Journal of Macroeconomics"
   ]
  },
  {
   "cell_type": "code",
   "execution_count": 17,
   "id": "3b1555d4-8860-46f6-8255-7c60f1218e8e",
   "metadata": {},
   "outputs": [],
   "source": [
    "import pandas as pd\n",
    "import numpy as np\n",
    "import matplotlib.pyplot as plt\n",
    "import seaborn as sns"
   ]
  },
  {
   "cell_type": "code",
   "execution_count": 117,
   "id": "7318e2a1-e9d8-4d62-886b-3cbf947afa6b",
   "metadata": {},
   "outputs": [
    {
     "data": {
      "text/html": [
       "<div>\n",
       "<style scoped>\n",
       "    .dataframe tbody tr th:only-of-type {\n",
       "        vertical-align: middle;\n",
       "    }\n",
       "\n",
       "    .dataframe tbody tr th {\n",
       "        vertical-align: top;\n",
       "    }\n",
       "\n",
       "    .dataframe thead th {\n",
       "        text-align: right;\n",
       "    }\n",
       "</style>\n",
       "<table border=\"1\" class=\"dataframe\">\n",
       "  <thead>\n",
       "    <tr style=\"text-align: right;\">\n",
       "      <th></th>\n",
       "      <th>authors</th>\n",
       "      <th>volume_name</th>\n",
       "      <th>volumen_date</th>\n",
       "      <th>year</th>\n",
       "      <th>keywords</th>\n",
       "    </tr>\n",
       "  </thead>\n",
       "  <tbody>\n",
       "    <tr>\n",
       "      <th>1</th>\n",
       "      <td>['[Kelly, Mark]', '[Kuhn, Michael]']</td>\n",
       "      <td>Volume 74</td>\n",
       "      <td>December 2022</td>\n",
       "      <td>2022</td>\n",
       "      <td>['congestion', 'public', 'health', 'service', ...</td>\n",
       "    </tr>\n",
       "    <tr>\n",
       "      <th>2</th>\n",
       "      <td>['[Sargent, Kristina]']</td>\n",
       "      <td>Volume 74</td>\n",
       "      <td>December 2022</td>\n",
       "      <td>2022</td>\n",
       "      <td>['wage', 'dispersion', 'effects', 'internation...</td>\n",
       "    </tr>\n",
       "    <tr>\n",
       "      <th>3</th>\n",
       "      <td>['[Guo, Jang-Ting]', '[Zhang, Yan]']</td>\n",
       "      <td>Volume 74</td>\n",
       "      <td>December 2022</td>\n",
       "      <td>2022</td>\n",
       "      <td>['balanced-budget', 'rules', 'macroeconomic', ...</td>\n",
       "    </tr>\n",
       "    <tr>\n",
       "      <th>4</th>\n",
       "      <td>['[Salas, Sergio]', '[Odell, Kathleen]']</td>\n",
       "      <td>Volume 74</td>\n",
       "      <td>December 2022</td>\n",
       "      <td>2022</td>\n",
       "      <td>['illiquid', 'investments', 'non-monotone', 'r...</td>\n",
       "    </tr>\n",
       "    <tr>\n",
       "      <th>5</th>\n",
       "      <td>['[Kasuga, Hidefumi]', '[Morita, Yuichi]']</td>\n",
       "      <td>Volume 74</td>\n",
       "      <td>December 2022</td>\n",
       "      <td>2022</td>\n",
       "      <td>['health', 'gap', 'effect', 'on', 'economic', ...</td>\n",
       "    </tr>\n",
       "  </tbody>\n",
       "</table>\n",
       "</div>"
      ],
      "text/plain": [
       "                                      authors volume_name   volumen_date  \\\n",
       "1        ['[Kelly, Mark]', '[Kuhn, Michael]']  Volume 74   December 2022   \n",
       "2                     ['[Sargent, Kristina]']  Volume 74   December 2022   \n",
       "3        ['[Guo, Jang-Ting]', '[Zhang, Yan]']  Volume 74   December 2022   \n",
       "4    ['[Salas, Sergio]', '[Odell, Kathleen]']  Volume 74   December 2022   \n",
       "5  ['[Kasuga, Hidefumi]', '[Morita, Yuichi]']  Volume 74   December 2022   \n",
       "\n",
       "   year                                           keywords  \n",
       "1  2022  ['congestion', 'public', 'health', 'service', ...  \n",
       "2  2022  ['wage', 'dispersion', 'effects', 'internation...  \n",
       "3  2022  ['balanced-budget', 'rules', 'macroeconomic', ...  \n",
       "4  2022  ['illiquid', 'investments', 'non-monotone', 'r...  \n",
       "5  2022  ['health', 'gap', 'effect', 'on', 'economic', ...  "
      ]
     },
     "execution_count": 117,
     "metadata": {},
     "output_type": "execute_result"
    }
   ],
   "source": [
    "dta = pd.read_csv(\"./Bases de datos/dta_f.csv\", index_col=\"Unnamed: 0\")\n",
    "\n",
    "dta.head()"
   ]
  },
  {
   "cell_type": "markdown",
   "id": "1285fdd5-e3b8-4b64-bd58-7725435875f4",
   "metadata": {},
   "source": [
    "### Estadisticas"
   ]
  },
  {
   "cell_type": "code",
   "execution_count": 19,
   "id": "1f5631b8-835e-4ad9-972e-139cf184260e",
   "metadata": {},
   "outputs": [
    {
     "name": "stdout",
     "output_type": "stream",
     "text": [
      "La base de datos contiene 2323 filas y 5 columnas\n"
     ]
    }
   ],
   "source": [
    "print(f\"La base de datos contiene {dta.shape[0]} filas y {dta.shape[1]} columnas\")"
   ]
  },
  {
   "cell_type": "code",
   "execution_count": 126,
   "id": "170c21fc-b311-4d65-8134-16dee98c1163",
   "metadata": {},
   "outputs": [
    {
     "name": "stdout",
     "output_type": "stream",
     "text": [
      "El TOP 10 de mayor cantidad de publicaciones por fecha es:\n",
      "\n"
     ]
    },
    {
     "data": {
      "text/plain": [
       "March 2014        41\n",
       "December 2013     38\n",
       "March 2010        35\n",
       "March 2008        31\n",
       "December 2019     29\n",
       "September 2008    29\n",
       "June 2014         28\n",
       "September 2015    27\n",
       "December 2008     26\n",
       "June 2019         26\n",
       "Name: volumen_date, dtype: int64"
      ]
     },
     "execution_count": 126,
     "metadata": {},
     "output_type": "execute_result"
    }
   ],
   "source": [
    "print(\"El TOP 10 de mayor cantidad de publicaciones por fecha es:\")\n",
    "print(\"\")\n",
    "dta[\"volumen_date\"].value_counts()[0:10]"
   ]
  },
  {
   "cell_type": "code",
   "execution_count": 130,
   "id": "781c63a5-c1d8-467f-8d13-e07f8b99a0b3",
   "metadata": {},
   "outputs": [
    {
     "name": "stdout",
     "output_type": "stream",
     "text": [
      "El TOP 10 de mayor cantidad de publicaciones por volumen es:\n",
      "\n"
     ]
    },
    {
     "data": {
      "text/plain": [
       "volume_name\n",
       "Volume 30      108\n",
       "Volume 32       86\n",
       "Volume 34       83\n",
       "Volume 33       61\n",
       "Volume 31       57\n",
       "Volume 29       53\n",
       "Volume 9        53\n",
       "Volume 28       50\n",
       "Volume 16       44\n",
       "Volume 26       44\n",
       "dtype: int64"
      ]
     },
     "execution_count": 130,
     "metadata": {},
     "output_type": "execute_result"
    }
   ],
   "source": [
    "print(\"El TOP 10 de mayor cantidad de publicaciones por volumen es:\")\n",
    "print(\"\")\n",
    "dta[[\"volume_name\"]].value_counts()[0:10]"
   ]
  },
  {
   "cell_type": "code",
   "execution_count": 129,
   "id": "e94de97e-e172-40e2-9804-9e12827d1bad",
   "metadata": {},
   "outputs": [
    {
     "name": "stdout",
     "output_type": "stream",
     "text": [
      "El TOP 10 de mayor cantidad de publicaciones por año es:\n",
      "\n"
     ]
    },
    {
     "data": {
      "text/plain": [
       "year\n",
       "2008    108\n",
       "2014    104\n",
       "2015     95\n",
       "2013     91\n",
       "2019     89\n",
       "2010     86\n",
       "2012     83\n",
       "2016     82\n",
       "2018     81\n",
       "2017     66\n",
       "dtype: int64"
      ]
     },
     "execution_count": 129,
     "metadata": {},
     "output_type": "execute_result"
    }
   ],
   "source": [
    "print(\"El TOP 10 de mayor cantidad de publicaciones por año es:\")\n",
    "print(\"\")\n",
    "dta[[\"year\"]].value_counts()[0:10]"
   ]
  },
  {
   "cell_type": "markdown",
   "id": "c768e72b-e320-4ab7-b1e3-baab8af76cab",
   "metadata": {},
   "source": [
    "### Graficas"
   ]
  },
  {
   "cell_type": "code",
   "execution_count": 132,
   "id": "ced016c4-064a-44ae-a691-d2e6d3bbc510",
   "metadata": {},
   "outputs": [
    {
     "data": {
      "image/png": "[encoded data removed]",
      "text/plain": [
       "<Figure size 1200x600 with 1 Axes>"
      ]
     },
     "metadata": {},
     "output_type": "display_data"
    }
   ],
   "source": [
    "publication_by_year = dta[[\"year\", \"volumen_date\"]].groupby(\"year\").count()\n",
    "colors = [\"red\" if index == 2008 else \"gray\" for index in publication_by_year.index]\n",
    "\n",
    "\n",
    "fig, ax = plt.subplots(figsize=(12,6))\n",
    "\n",
    "fig = plt.bar(x=publication_by_year.index, height=publication_by_year.volumen_date, color=colors, alpha=0.5)\n",
    "\n",
    "plt.title(\"Cantidad de publicaciones por año\")\n",
    "plt.xlabel(\"\")\n",
    "\n",
    "plt.show()"
   ]
  },
  {
   "cell_type": "code",
   "execution_count": 133,
   "id": "84254e7e-622f-4698-80d0-969199a43040",
   "metadata": {},
   "outputs": [
    {
     "data": {
      "text/html": [
       "<div>\n",
       "<style scoped>\n",
       "    .dataframe tbody tr th:only-of-type {\n",
       "        vertical-align: middle;\n",
       "    }\n",
       "\n",
       "    .dataframe tbody tr th {\n",
       "        vertical-align: top;\n",
       "    }\n",
       "\n",
       "    .dataframe thead th {\n",
       "        text-align: right;\n",
       "    }\n",
       "</style>\n",
       "<table border=\"1\" class=\"dataframe\">\n",
       "  <thead>\n",
       "    <tr style=\"text-align: right;\">\n",
       "      <th></th>\n",
       "      <th>volumen_date</th>\n",
       "    </tr>\n",
       "    <tr>\n",
       "      <th>year</th>\n",
       "      <th></th>\n",
       "    </tr>\n",
       "  </thead>\n",
       "  <tbody>\n",
       "    <tr>\n",
       "      <th>1979</th>\n",
       "      <td>32</td>\n",
       "    </tr>\n",
       "    <tr>\n",
       "      <th>1980</th>\n",
       "      <td>22</td>\n",
       "    </tr>\n",
       "    <tr>\n",
       "      <th>1981</th>\n",
       "      <td>33</td>\n",
       "    </tr>\n",
       "    <tr>\n",
       "      <th>1982</th>\n",
       "      <td>32</td>\n",
       "    </tr>\n",
       "    <tr>\n",
       "      <th>1983</th>\n",
       "      <td>33</td>\n",
       "    </tr>\n",
       "  </tbody>\n",
       "</table>\n",
       "</div>"
      ],
      "text/plain": [
       "      volumen_date\n",
       "year              \n",
       "1979            32\n",
       "1980            22\n",
       "1981            33\n",
       "1982            32\n",
       "1983            33"
      ]
     },
     "execution_count": 133,
     "metadata": {},
     "output_type": "execute_result"
    }
   ],
   "source": [
    "publication_by_year.head()"
   ]
  },
  {
   "cell_type": "code",
   "execution_count": null,
   "id": "6a26d8ed-9646-44d5-a7fe-db8c62914432",
   "metadata": {},
   "outputs": [],
   "source": []
  }
 ],
 "metadata": {
  "kernelspec": {
   "display_name": "Python 3 (ipykernel)",
   "language": "python",
   "name": "python3"
  },
  "language_info": {
   "codemirror_mode": {
    "name": "ipython",
    "version": 3
   },
   "file_extension": ".py",
   "mimetype": "text/x-python",
   "name": "python",
   "nbconvert_exporter": "python",
   "pygments_lexer": "ipython3",
   "version": "3.9.13"
  }
 },
 "nbformat": 4,
 "nbformat_minor": 5
}
