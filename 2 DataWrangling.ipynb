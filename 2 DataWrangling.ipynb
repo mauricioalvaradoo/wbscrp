{
 "cells": [
  {
   "cell_type": "markdown",
   "metadata": {},
   "source": [
    "## Data Wrangling a la base de datos"
   ]
  },
  {
   "cell_type": "code",
   "execution_count": 1,
   "metadata": {},
   "outputs": [],
   "source": [
    "import pandas as pd\n",
    "import re\n",
    "\n",
    "import warnings\n",
    "warnings.simplefilter(\"ignore\")"
   ]
  },
  {
   "cell_type": "code",
   "execution_count": 2,
   "metadata": {},
   "outputs": [
    {
     "data": {
      "text/html": [
       "<div>\n",
       "<style scoped>\n",
       "    .dataframe tbody tr th:only-of-type {\n",
       "        vertical-align: middle;\n",
       "    }\n",
       "\n",
       "    .dataframe tbody tr th {\n",
       "        vertical-align: top;\n",
       "    }\n",
       "\n",
       "    .dataframe thead th {\n",
       "        text-align: right;\n",
       "    }\n",
       "</style>\n",
       "<table border=\"1\" class=\"dataframe\">\n",
       "  <thead>\n",
       "    <tr style=\"text-align: right;\">\n",
       "      <th></th>\n",
       "      <th>article_name</th>\n",
       "      <th>authors</th>\n",
       "      <th>volume_name</th>\n",
       "      <th>volumen_date</th>\n",
       "    </tr>\n",
       "  </thead>\n",
       "  <tbody>\n",
       "    <tr>\n",
       "      <th>0</th>\n",
       "      <td>Editorial Board</td>\n",
       "      <td>[]</td>\n",
       "      <td>Volume 74</td>\n",
       "      <td>December 2022</td>\n",
       "    </tr>\n",
       "    <tr>\n",
       "      <th>1</th>\n",
       "      <td>Congestion in a public health service: A macro...</td>\n",
       "      <td>['[Kelly, Mark]', '[Kuhn, Michael]']</td>\n",
       "      <td>Volume 74</td>\n",
       "      <td>December 2022</td>\n",
       "    </tr>\n",
       "    <tr>\n",
       "      <th>2</th>\n",
       "      <td>The wage dispersion effects of international m...</td>\n",
       "      <td>['[Sargent, Kristina]']</td>\n",
       "      <td>Volume 74</td>\n",
       "      <td>December 2022</td>\n",
       "    </tr>\n",
       "    <tr>\n",
       "      <th>3</th>\n",
       "      <td>Balanced-budget rules and macroeconomic stabil...</td>\n",
       "      <td>['[Guo, Jang-Ting]', '[Zhang, Yan]']</td>\n",
       "      <td>Volume 74</td>\n",
       "      <td>December 2022</td>\n",
       "    </tr>\n",
       "    <tr>\n",
       "      <th>4</th>\n",
       "      <td>Illiquid investments and the non-monotone rela...</td>\n",
       "      <td>['[Salas, Sergio]', '[Odell, Kathleen]']</td>\n",
       "      <td>Volume 74</td>\n",
       "      <td>December 2022</td>\n",
       "    </tr>\n",
       "  </tbody>\n",
       "</table>\n",
       "</div>"
      ],
      "text/plain": [
       "                                        article_name  \\\n",
       "0                                    Editorial Board   \n",
       "1  Congestion in a public health service: A macro...   \n",
       "2  The wage dispersion effects of international m...   \n",
       "3  Balanced-budget rules and macroeconomic stabil...   \n",
       "4  Illiquid investments and the non-monotone rela...   \n",
       "\n",
       "                                    authors volume_name   volumen_date  \n",
       "0                                        []  Volume 74   December 2022  \n",
       "1      ['[Kelly, Mark]', '[Kuhn, Michael]']  Volume 74   December 2022  \n",
       "2                   ['[Sargent, Kristina]']  Volume 74   December 2022  \n",
       "3      ['[Guo, Jang-Ting]', '[Zhang, Yan]']  Volume 74   December 2022  \n",
       "4  ['[Salas, Sergio]', '[Odell, Kathleen]']  Volume 74   December 2022  "
      ]
     },
     "execution_count": 2,
     "metadata": {},
     "output_type": "execute_result"
    }
   ],
   "source": [
    "dta = pd.read_csv(\"./Bases de datos/dta.csv\", delimiter=\";\", index_col=\"Unnamed: 0\", usecols=[\"Unnamed: 0\",\"article_name\", \"authors\", \"volume_name\", \"volumen_date\"])\n",
    "\n",
    "dta.head()"
   ]
  },
  {
   "cell_type": "markdown",
   "metadata": {},
   "source": [
    "Eliminando algunos archivos que no tienen autores, y que posiblemente sean anuncios o portadas"
   ]
  },
  {
   "cell_type": "code",
   "execution_count": 3,
   "metadata": {},
   "outputs": [],
   "source": [
    "dta.drop(dta[dta[\"authors\"] == \"[]\"].index, inplace=True)"
   ]
  },
  {
   "cell_type": "markdown",
   "metadata": {},
   "source": [
    "Renombraré observaciones de la columnas `volumen_date` que contengan informacion irrelevante al igual que en `volume_date`"
   ]
  },
  {
   "cell_type": "code",
   "execution_count": 4,
   "metadata": {},
   "outputs": [],
   "source": [
    "dta[\"volumen_date\"] = dta[\"volumen_date\"].str.replace(r'[^(]*\\(|\\)[^)]*', '')\n",
    "dta[\"volume_name\"] = dta[\"volume_name\"].str.split(',').str[0]"
   ]
  },
  {
   "cell_type": "markdown",
   "metadata": {},
   "source": [
    "Creando años de publicacion `year`"
   ]
  },
  {
   "cell_type": "code",
   "execution_count": 5,
   "metadata": {},
   "outputs": [],
   "source": [
    "dta[\"year\"] = dta[\"volumen_date\"].str.split().str[-1]"
   ]
  },
  {
   "cell_type": "markdown",
   "metadata": {},
   "source": [
    "Creacion de `keywords`"
   ]
  },
  {
   "cell_type": "code",
   "execution_count": 6,
   "metadata": {},
   "outputs": [],
   "source": [
    "dta[\"keywords\"] = dta[\"article_name\"].str.lower()\n",
    "\n",
    "# Eliminar palabras\n",
    "words = [\n",
    "    \"in\", \"a\", \"the\", \"of\", \"as\", \"with\", \"its\",\n",
    "    \"their\", \"and\", \"vs.\"\n",
    "]\n",
    "\n",
    "dta[\"keywords\"] = dta[\"keywords\"].str.replace(r\"\\s*(?<!\\w)(?:{})(?!\\w)\".format(\"|\".join([re.escape(x) for x in words])), \" \")\n",
    "\n",
    "# Eliminar caracteres\n",
    "characters = [\n",
    "    \":\", \",\", \".\", \";\", '“','”'\n",
    "]\n",
    "\n",
    "for c in characters:\n",
    "     dta[\"keywords\"] = dta[\"keywords\"].str.replace(c, '')\n",
    "\n",
    "# Palabras a lista\n",
    "dta[\"keywords\"] = dta[\"keywords\"].str.replace(r'\\s+', ' ', regex=True)\n",
    "dta[\"keywords\"] = dta[\"keywords\"].str.strip()\n",
    "dta[\"keywords\"] = [x.split(\" \") for x in dta[\"keywords\"]]\n",
    "\n",
    "# Eliminando el titulo\n",
    "dta.drop([\"article_name\"], axis=1, inplace=True)"
   ]
  },
  {
   "cell_type": "code",
   "execution_count": 7,
   "metadata": {},
   "outputs": [
    {
     "data": {
      "text/html": [
       "<div>\n",
       "<style scoped>\n",
       "    .dataframe tbody tr th:only-of-type {\n",
       "        vertical-align: middle;\n",
       "    }\n",
       "\n",
       "    .dataframe tbody tr th {\n",
       "        vertical-align: top;\n",
       "    }\n",
       "\n",
       "    .dataframe thead th {\n",
       "        text-align: right;\n",
       "    }\n",
       "</style>\n",
       "<table border=\"1\" class=\"dataframe\">\n",
       "  <thead>\n",
       "    <tr style=\"text-align: right;\">\n",
       "      <th></th>\n",
       "      <th>authors</th>\n",
       "      <th>volume_name</th>\n",
       "      <th>volumen_date</th>\n",
       "      <th>year</th>\n",
       "      <th>keywords</th>\n",
       "    </tr>\n",
       "  </thead>\n",
       "  <tbody>\n",
       "    <tr>\n",
       "      <th>1</th>\n",
       "      <td>['[Kelly, Mark]', '[Kuhn, Michael]']</td>\n",
       "      <td>Volume 74</td>\n",
       "      <td>December 2022</td>\n",
       "      <td>2022</td>\n",
       "      <td>[congestion, public, health, service, macro, a...</td>\n",
       "    </tr>\n",
       "    <tr>\n",
       "      <th>2</th>\n",
       "      <td>['[Sargent, Kristina]']</td>\n",
       "      <td>Volume 74</td>\n",
       "      <td>December 2022</td>\n",
       "      <td>2022</td>\n",
       "      <td>[wage, dispersion, effects, international, mig...</td>\n",
       "    </tr>\n",
       "    <tr>\n",
       "      <th>3</th>\n",
       "      <td>['[Guo, Jang-Ting]', '[Zhang, Yan]']</td>\n",
       "      <td>Volume 74</td>\n",
       "      <td>December 2022</td>\n",
       "      <td>2022</td>\n",
       "      <td>[balanced-budget, rules, macroeconomic, stabil...</td>\n",
       "    </tr>\n",
       "    <tr>\n",
       "      <th>4</th>\n",
       "      <td>['[Salas, Sergio]', '[Odell, Kathleen]']</td>\n",
       "      <td>Volume 74</td>\n",
       "      <td>December 2022</td>\n",
       "      <td>2022</td>\n",
       "      <td>[illiquid, investments, non-monotone, relation...</td>\n",
       "    </tr>\n",
       "    <tr>\n",
       "      <th>5</th>\n",
       "      <td>['[Kasuga, Hidefumi]', '[Morita, Yuichi]']</td>\n",
       "      <td>Volume 74</td>\n",
       "      <td>December 2022</td>\n",
       "      <td>2022</td>\n",
       "      <td>[health, gap, effect, on, economic, outcomes]</td>\n",
       "    </tr>\n",
       "  </tbody>\n",
       "</table>\n",
       "</div>"
      ],
      "text/plain": [
       "                                      authors volume_name   volumen_date  \\\n",
       "1        ['[Kelly, Mark]', '[Kuhn, Michael]']  Volume 74   December 2022   \n",
       "2                     ['[Sargent, Kristina]']  Volume 74   December 2022   \n",
       "3        ['[Guo, Jang-Ting]', '[Zhang, Yan]']  Volume 74   December 2022   \n",
       "4    ['[Salas, Sergio]', '[Odell, Kathleen]']  Volume 74   December 2022   \n",
       "5  ['[Kasuga, Hidefumi]', '[Morita, Yuichi]']  Volume 74   December 2022   \n",
       "\n",
       "   year                                           keywords  \n",
       "1  2022  [congestion, public, health, service, macro, a...  \n",
       "2  2022  [wage, dispersion, effects, international, mig...  \n",
       "3  2022  [balanced-budget, rules, macroeconomic, stabil...  \n",
       "4  2022  [illiquid, investments, non-monotone, relation...  \n",
       "5  2022      [health, gap, effect, on, economic, outcomes]  "
      ]
     },
     "execution_count": 7,
     "metadata": {},
     "output_type": "execute_result"
    }
   ],
   "source": [
    "dta.head()"
   ]
  },
  {
   "cell_type": "code",
   "execution_count": 8,
   "metadata": {},
   "outputs": [],
   "source": [
    "dta.to_csv(\"./Bases de datos/dta_f.csv\")\n",
    "dta.to_excel(\"./Bases de datos/dta_f.xlsx\")"
   ]
  }
 ],
 "metadata": {
  "kernelspec": {
   "display_name": "Python 3 (ipykernel)",
   "language": "python",
   "name": "python3"
  },
  "language_info": {
   "codemirror_mode": {
    "name": "ipython",
    "version": 3
   },
   "file_extension": ".py",
   "mimetype": "text/x-python",
   "name": "python",
   "nbconvert_exporter": "python",
   "pygments_lexer": "ipython3",
   "version": "3.9.13"
  },
  "vscode": {
   "interpreter": {
    "hash": "cd95f571a5c3e2d2b70328b0d0633948104a546c9302dee9a863aeb86b2a122c"
   }
  }
 },
 "nbformat": 4,
 "nbformat_minor": 4
}
