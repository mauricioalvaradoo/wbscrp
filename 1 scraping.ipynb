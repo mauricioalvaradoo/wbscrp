{
 "cells": [
  {
   "cell_type": "markdown",
   "metadata": {},
   "source": [
    "## Web Scraping en el Journal of Macroeconomics\n",
    "\n",
    "El objetivo es vincularme con la página web del Journal of Macroeconomics para extraer la informacion de cada volumen, los articulos de cada uno, los autores, los links, entre otros.\n",
    "\n",
    "Voy a trabajar con un entorno virtual llamado `env`. El Driver de Chrome se puede descargar en https://sites.google.com/chromium.org/driver/downloads\n",
    " "
   ]
  },
  {
   "cell_type": "code",
   "execution_count": 276,
   "metadata": {},
   "outputs": [],
   "source": [
    "import pandas as pd\n",
    "import numpy as np\n",
    "import matplotlib.pyplot as plt\n",
    "import seaborn as sns\n",
    "from time import sleep\n",
    "\n",
    "from bs4 import BeautifulSoup\n",
    "from selenium import webdriver\n",
    "from selenium.webdriver.common.by import By\n",
    "from webdriver_manager.chrome import ChromeDriverManager"
   ]
  },
  {
   "cell_type": "markdown",
   "metadata": {},
   "source": [
    "Nos vinculamos con la sección de articulos dentro del sitio web del Journal of Macroeconomics"
   ]
  },
  {
   "cell_type": "code",
   "execution_count": 261,
   "metadata": {},
   "outputs": [],
   "source": [
    "def html_import(url):\n",
    "    driver = webdriver.Chrome(\"./driver/chromedriver.exe\")\n",
    "    driver.get(url)\n",
    "\n",
    "    try:\n",
    "        # Debo clickear y habilitar todos los paneles (AÚN NO FUNCIONA)\n",
    "        buttons = driver.find_element(By.CLASS_NAME, \"accordion-panel-title\").click()\n",
    "\n",
    "    except:\n",
    "        pass\n",
    "\n",
    "    # Conseguir el código fuente como HTML\n",
    "    html = driver.page_source\n",
    "    soup = BeautifulSoup(html, \"html.parser\")\n",
    "    \n",
    "    driver.close()\n",
    "\n",
    "    return soup"
   ]
  },
  {
   "cell_type": "markdown",
   "metadata": {},
   "source": [
    "Definimos los links para la importacion"
   ]
  },
  {
   "cell_type": "code",
   "execution_count": 268,
   "metadata": {},
   "outputs": [
    {
     "name": "stderr",
     "output_type": "stream",
     "text": [
      "C:\\Users\\user\\AppData\\Local\\Temp\\ipykernel_2716\\3037208345.py:2: DeprecationWarning: executable_path has been deprecated, please pass in a Service object\n",
      "  driver = webdriver.Chrome(\"./driver/chromedriver.exe\")\n"
     ]
    }
   ],
   "source": [
    "url_1 = \"https://www.sciencedirect.com/journal/journal-of-macroeconomics/issues?page=1\"\n",
    "url_2 = \"https://www.sciencedirect.com/journal/journal-of-macroeconomics/issues?page=2\"\n",
    "url_3 = \"https://www.sciencedirect.com/journal/journal-of-macroeconomics/issues?page=3\"\n",
    "\n",
    "page_1 = html_import(url_1)\n",
    "page_2 = html_import(url_2)\n",
    "page_3 = html_import(url_3)"
   ]
  },
  {
   "cell_type": "markdown",
   "metadata": {},
   "source": [
    "Tras haber importado todos los elementos dentro de los links, es importante definir los elementos que deseamos importar y sus clases\n",
    "\n",
    "* Secciones:          `<li class=\"accordion-panel js-accordion-panel\">`\n",
    "* Volumenes:          `<div class=\"issue-item u-margin-s-bottom\">`\n",
    "* Nombre del volumen: `<span class=\"anchor-text\">`\n",
    "* Link:               `<a class=\"anchor js-issue-item-link text-m anchor-default\">`"
   ]
  },
  {
   "cell_type": "code",
   "execution_count": 269,
   "metadata": {},
   "outputs": [],
   "source": [
    "def get_volumens(soup):\n",
    "    sections = soup.find_all(\"li\", {\"class\": \"accordion-panel js-accordion-panel\"})\n",
    "\n",
    "    list_names=[]\n",
    "    list_urls=[]\n",
    "\n",
    "    for section in sections:\n",
    "        volumens = section.find_all(\"div\", {\"class\": \"issue-item u-margin-s-bottom\"})\n",
    "\n",
    "        for volume in volumens:\n",
    "            name = volume.find(\"span\", {\"class\": \"anchor-text\"}).text\n",
    "            url = volume.find(\"a\", {\"class\": \"anchor js-issue-item-link text-m anchor-default\"}).get(\"href\")\n",
    "\n",
    "            # Guardando los resultados\n",
    "            list_names.append(name)\n",
    "            list_urls.append(url)\n",
    "\n",
    "    return list_names, list_urls"
   ]
  },
  {
   "cell_type": "code",
   "execution_count": 295,
   "metadata": {},
   "outputs": [
    {
     "data": {
      "text/html": [
       "<div>\n",
       "<style scoped>\n",
       "    .dataframe tbody tr th:only-of-type {\n",
       "        vertical-align: middle;\n",
       "    }\n",
       "\n",
       "    .dataframe tbody tr th {\n",
       "        vertical-align: top;\n",
       "    }\n",
       "\n",
       "    .dataframe thead th {\n",
       "        text-align: right;\n",
       "    }\n",
       "</style>\n",
       "<table border=\"1\" class=\"dataframe\">\n",
       "  <thead>\n",
       "    <tr style=\"text-align: right;\">\n",
       "      <th></th>\n",
       "      <th>volume_name</th>\n",
       "      <th>volume_url</th>\n",
       "    </tr>\n",
       "  </thead>\n",
       "  <tbody>\n",
       "    <tr>\n",
       "      <th>0</th>\n",
       "      <td>Volume 74</td>\n",
       "      <td>/journal/journal-of-macroeconomics/vol/74/suppl/C</td>\n",
       "    </tr>\n",
       "    <tr>\n",
       "      <th>1</th>\n",
       "      <td>Volume 73</td>\n",
       "      <td>/journal/journal-of-macroeconomics/vol/73/suppl/C</td>\n",
       "    </tr>\n",
       "    <tr>\n",
       "      <th>2</th>\n",
       "      <td>Volume 72</td>\n",
       "      <td>/journal/journal-of-macroeconomics/vol/72/suppl/C</td>\n",
       "    </tr>\n",
       "    <tr>\n",
       "      <th>3</th>\n",
       "      <td>Volume 71</td>\n",
       "      <td>/journal/journal-of-macroeconomics/vol/71/suppl/C</td>\n",
       "    </tr>\n",
       "    <tr>\n",
       "      <th>4</th>\n",
       "      <td>Volume 24, Issue 4</td>\n",
       "      <td>/journal/journal-of-macroeconomics/vol/24/issue/4</td>\n",
       "    </tr>\n",
       "  </tbody>\n",
       "</table>\n",
       "</div>"
      ],
      "text/plain": [
       "           volume_name                                         volume_url\n",
       "0           Volume 74   /journal/journal-of-macroeconomics/vol/74/suppl/C\n",
       "1           Volume 73   /journal/journal-of-macroeconomics/vol/73/suppl/C\n",
       "2           Volume 72   /journal/journal-of-macroeconomics/vol/72/suppl/C\n",
       "3           Volume 71   /journal/journal-of-macroeconomics/vol/71/suppl/C\n",
       "4  Volume 24, Issue 4   /journal/journal-of-macroeconomics/vol/24/issue/4"
      ]
     },
     "execution_count": 295,
     "metadata": {},
     "output_type": "execute_result"
    }
   ],
   "source": [
    "names_1, urls_1 = get_volumens(page_1)\n",
    "names_2, urls_2 = get_volumens(page_2)\n",
    "names_3, urls_3 = get_volumens(page_3)\n",
    "\n",
    "names = names_1 + names_2 + names_3\n",
    "urls = urls_1 + urls_2 + urls_3\n",
    "\n",
    "# Dataframe\n",
    "dta_volumens = pd.DataFrame({\"volume_name\": names, \"volume_url\": urls})\n",
    "dta_volumens.head()"
   ]
  },
  {
   "cell_type": "markdown",
   "metadata": {},
   "source": [
    "* Article: `<h3 class=\"text-m u-font-serif u-display-inline\">`\n",
    "* Url: `<a class=\"anchor article-content-title u-margin-xs-top u-margin-s-bottom anchor-default\">`\n",
    "* Name: `<span class=\"js-article-title\">`"
   ]
  },
  {
   "cell_type": "code",
   "execution_count": 284,
   "metadata": {},
   "outputs": [],
   "source": [
    "def get_articles(array):\n",
    "    \n",
    "    list_articles = []\n",
    "\n",
    "    for i in array:\n",
    "        # Extraendo los nombres de los articulos en cada HTML\n",
    "        soup = html_import(f\"https://www.sciencedirect.com{i}\")\n",
    "        articles = soup.find_all(\"h3\", {\"class\": \"text-m u-font-serif u-display-inline\"})\n",
    "\n",
    "        for article in articles:\n",
    "            name = article.find(\"span\", {\"class\": \"js-article-title\"}).text\n",
    "            url = article.find(\"a\", {\"class\": \"anchor article-content-title u-margin-xs-top u-margin-s-bottom anchor-default\"}).get(\"href\")\n",
    "            \n",
    "            # Guardando resultados\n",
    "            list_articles.append([i, name, url])    \n",
    "\n",
    "    return list_articles"
   ]
  },
  {
   "cell_type": "code",
   "execution_count": 286,
   "metadata": {},
   "outputs": [
    {
     "name": "stderr",
     "output_type": "stream",
     "text": [
      "C:\\Users\\user\\AppData\\Local\\Temp\\ipykernel_2716\\3037208345.py:2: DeprecationWarning: executable_path has been deprecated, please pass in a Service object\n",
      "  driver = webdriver.Chrome(\"./driver/chromedriver.exe\")\n"
     ]
    }
   ],
   "source": [
    "urls = dta_volumens[\"volume_url\"]\n",
    "\n",
    "articles = get_articles(urls)"
   ]
  },
  {
   "cell_type": "code",
   "execution_count": 297,
   "metadata": {},
   "outputs": [
    {
     "data": {
      "text/html": [
       "<div>\n",
       "<style scoped>\n",
       "    .dataframe tbody tr th:only-of-type {\n",
       "        vertical-align: middle;\n",
       "    }\n",
       "\n",
       "    .dataframe tbody tr th {\n",
       "        vertical-align: top;\n",
       "    }\n",
       "\n",
       "    .dataframe thead th {\n",
       "        text-align: right;\n",
       "    }\n",
       "</style>\n",
       "<table border=\"1\" class=\"dataframe\">\n",
       "  <thead>\n",
       "    <tr style=\"text-align: right;\">\n",
       "      <th></th>\n",
       "      <th>volume_url</th>\n",
       "      <th>article_name</th>\n",
       "      <th>article_url</th>\n",
       "    </tr>\n",
       "  </thead>\n",
       "  <tbody>\n",
       "    <tr>\n",
       "      <th>0</th>\n",
       "      <td>/journal/journal-of-macroeconomics/vol/74/suppl/C</td>\n",
       "      <td>Congestion in a public health service: A macro...</td>\n",
       "      <td>/science/article/pii/S0164070422000477</td>\n",
       "    </tr>\n",
       "    <tr>\n",
       "      <th>1</th>\n",
       "      <td>/journal/journal-of-macroeconomics/vol/74/suppl/C</td>\n",
       "      <td>The wage dispersion effects of international m...</td>\n",
       "      <td>/science/article/pii/S0164070422000490</td>\n",
       "    </tr>\n",
       "    <tr>\n",
       "      <th>2</th>\n",
       "      <td>/journal/journal-of-macroeconomics/vol/74/suppl/C</td>\n",
       "      <td>Balanced-budget rules and macroeconomic stabil...</td>\n",
       "      <td>/science/article/pii/S0164070422000507</td>\n",
       "    </tr>\n",
       "    <tr>\n",
       "      <th>3</th>\n",
       "      <td>/journal/journal-of-macroeconomics/vol/74/suppl/C</td>\n",
       "      <td>Illiquid investments and the non-monotone rela...</td>\n",
       "      <td>/science/article/pii/S0164070422000532</td>\n",
       "    </tr>\n",
       "    <tr>\n",
       "      <th>4</th>\n",
       "      <td>/journal/journal-of-macroeconomics/vol/74/suppl/C</td>\n",
       "      <td>The health gap and its effect on economic outc...</td>\n",
       "      <td>/science/article/pii/S0164070422000544</td>\n",
       "    </tr>\n",
       "    <tr>\n",
       "      <th>...</th>\n",
       "      <td>...</td>\n",
       "      <td>...</td>\n",
       "      <td>...</td>\n",
       "    </tr>\n",
       "    <tr>\n",
       "      <th>216</th>\n",
       "      <td>/journal/journal-of-macroeconomics/vol/4/issue/1</td>\n",
       "      <td>Understanding inflation accounting: Timothy S....</td>\n",
       "      <td>/science/article/pii/0164070482900246</td>\n",
       "    </tr>\n",
       "    <tr>\n",
       "      <th>217</th>\n",
       "      <td>/journal/journal-of-macroeconomics/vol/4/issue/1</td>\n",
       "      <td>Understanding macroeconomics: Robert L. Heilbr...</td>\n",
       "      <td>/science/article/pii/0164070482900258</td>\n",
       "    </tr>\n",
       "    <tr>\n",
       "      <th>218</th>\n",
       "      <td>/journal/journal-of-macroeconomics/vol/4/issue/1</td>\n",
       "      <td>The U.S. monetary system: money, banking, and ...</td>\n",
       "      <td>/science/article/pii/016407048290026X</td>\n",
       "    </tr>\n",
       "    <tr>\n",
       "      <th>219</th>\n",
       "      <td>/journal/journal-of-macroeconomics/vol/4/issue/1</td>\n",
       "      <td>Wealth and poverty: George Gilder. New York: B...</td>\n",
       "      <td>/science/article/pii/0164070482900271</td>\n",
       "    </tr>\n",
       "    <tr>\n",
       "      <th>220</th>\n",
       "      <td>/journal/journal-of-macroeconomics/vol/4/issue/1</td>\n",
       "      <td>Referee acknowledgement</td>\n",
       "      <td>/science/article/pii/0164070482900283</td>\n",
       "    </tr>\n",
       "  </tbody>\n",
       "</table>\n",
       "<p>221 rows × 3 columns</p>\n",
       "</div>"
      ],
      "text/plain": [
       "                                            volume_url  \\\n",
       "0    /journal/journal-of-macroeconomics/vol/74/suppl/C   \n",
       "1    /journal/journal-of-macroeconomics/vol/74/suppl/C   \n",
       "2    /journal/journal-of-macroeconomics/vol/74/suppl/C   \n",
       "3    /journal/journal-of-macroeconomics/vol/74/suppl/C   \n",
       "4    /journal/journal-of-macroeconomics/vol/74/suppl/C   \n",
       "..                                                 ...   \n",
       "216   /journal/journal-of-macroeconomics/vol/4/issue/1   \n",
       "217   /journal/journal-of-macroeconomics/vol/4/issue/1   \n",
       "218   /journal/journal-of-macroeconomics/vol/4/issue/1   \n",
       "219   /journal/journal-of-macroeconomics/vol/4/issue/1   \n",
       "220   /journal/journal-of-macroeconomics/vol/4/issue/1   \n",
       "\n",
       "                                          article_name  \\\n",
       "0    Congestion in a public health service: A macro...   \n",
       "1    The wage dispersion effects of international m...   \n",
       "2    Balanced-budget rules and macroeconomic stabil...   \n",
       "3    Illiquid investments and the non-monotone rela...   \n",
       "4    The health gap and its effect on economic outc...   \n",
       "..                                                 ...   \n",
       "216  Understanding inflation accounting: Timothy S....   \n",
       "217  Understanding macroeconomics: Robert L. Heilbr...   \n",
       "218  The U.S. monetary system: money, banking, and ...   \n",
       "219  Wealth and poverty: George Gilder. New York: B...   \n",
       "220                            Referee acknowledgement   \n",
       "\n",
       "                                article_url  \n",
       "0    /science/article/pii/S0164070422000477  \n",
       "1    /science/article/pii/S0164070422000490  \n",
       "2    /science/article/pii/S0164070422000507  \n",
       "3    /science/article/pii/S0164070422000532  \n",
       "4    /science/article/pii/S0164070422000544  \n",
       "..                                      ...  \n",
       "216   /science/article/pii/0164070482900246  \n",
       "217   /science/article/pii/0164070482900258  \n",
       "218   /science/article/pii/016407048290026X  \n",
       "219   /science/article/pii/0164070482900271  \n",
       "220   /science/article/pii/0164070482900283  \n",
       "\n",
       "[221 rows x 3 columns]"
      ]
     },
     "execution_count": 297,
     "metadata": {},
     "output_type": "execute_result"
    }
   ],
   "source": [
    "dta_articles = pd.DataFrame(articles, columns=[\"volume_url\", \"article_name\", \"article_url\"])\n",
    "dta_articles"
   ]
  },
  {
   "cell_type": "markdown",
   "metadata": {},
   "source": [
    "* Autores-Banner: `<div class=\"author-group\">`\n",
    "* Autores: `<a class=\"author size-m workspace-trigger\">`\n",
    "* Nombre: `<span class=\"text given-name\">`\n",
    "* Apellido: `<span class=\"text surname\">`\n",
    "* Doi: `<a class=\"doi\">`\n",
    "* Keyword `<div class=\"keyword\">`"
   ]
  },
  {
   "cell_type": "code",
   "execution_count": 310,
   "metadata": {},
   "outputs": [],
   "source": [
    "def get_components(array):\n",
    "    \n",
    "    list_components = []\n",
    "\n",
    "    for i in array:\n",
    "        # Entraendo los componentes de cada uno de los articulos\n",
    "        soup = html_import(f\"https://www.sciencedirect.com{i}\")\n",
    "\n",
    "        # Elementos\n",
    "        doi = soup.find(\"a\", {\"class\": \"doi\"}).get(\"href\")\n",
    "        keywords = soup.find_all(\"div\", {\"class\": \"keyword\"})\n",
    "        group_authors = soup.find_all(\"a\", {\"class\": \"author size-m workspace-trigger\"})\n",
    "\n",
    "        authors = []\n",
    "        for authors in group_authors:\n",
    "            name = authors.find(\"span\", {\"class\": \"text given-name\"}).text\n",
    "            surname = authors.find(\"span\", {\"class\": \"text surname\"}).text\n",
    "\n",
    "            author = f\"{surname}, {name}\"\n",
    "            authors.append(author)\n",
    "\n",
    "        # Union\n",
    "        list_components.append([i, authors, doi, keywords])\n",
    "\n",
    "    return list_components"
   ]
  },
  {
   "cell_type": "code",
   "execution_count": 311,
   "metadata": {},
   "outputs": [
    {
     "data": {
      "text/plain": [
       "0    /science/article/pii/S0164070422000477\n",
       "1    /science/article/pii/S0164070422000490\n",
       "Name: article_url, dtype: object"
      ]
     },
     "execution_count": 311,
     "metadata": {},
     "output_type": "execute_result"
    }
   ],
   "source": [
    "urls = dta_articles[\"article_url\"]\n",
    "urls = urls[0:2]\n",
    "urls"
   ]
  },
  {
   "cell_type": "code",
   "execution_count": 312,
   "metadata": {},
   "outputs": [
    {
     "name": "stderr",
     "output_type": "stream",
     "text": [
      "C:\\Users\\user\\AppData\\Local\\Temp\\ipykernel_2716\\3037208345.py:2: DeprecationWarning: executable_path has been deprecated, please pass in a Service object\n",
      "  driver = webdriver.Chrome(\"./driver/chromedriver.exe\")\n"
     ]
    }
   ],
   "source": [
    "components = get_components(urls)"
   ]
  },
  {
   "cell_type": "code",
   "execution_count": 314,
   "metadata": {},
   "outputs": [
    {
     "data": {
      "text/html": [
       "<div>\n",
       "<style scoped>\n",
       "    .dataframe tbody tr th:only-of-type {\n",
       "        vertical-align: middle;\n",
       "    }\n",
       "\n",
       "    .dataframe tbody tr th {\n",
       "        vertical-align: top;\n",
       "    }\n",
       "\n",
       "    .dataframe thead th {\n",
       "        text-align: right;\n",
       "    }\n",
       "</style>\n",
       "<table border=\"1\" class=\"dataframe\">\n",
       "  <thead>\n",
       "    <tr style=\"text-align: right;\">\n",
       "      <th></th>\n",
       "      <th>article_url</th>\n",
       "      <th>authors</th>\n",
       "      <th>doi</th>\n",
       "      <th>keywords</th>\n",
       "    </tr>\n",
       "  </thead>\n",
       "  <tbody>\n",
       "    <tr>\n",
       "      <th>0</th>\n",
       "      <td>/science/article/pii/S0164070422000477</td>\n",
       "      <td>[[[Michael], [Kuhn], [&lt;sup&gt;b&lt;/sup&gt;], [&lt;sup&gt;c&lt;/...</td>\n",
       "      <td>https://doi.org/10.1016/j.jmacro.2022.103451</td>\n",
       "      <td>[]</td>\n",
       "    </tr>\n",
       "    <tr>\n",
       "      <th>1</th>\n",
       "      <td>/science/article/pii/S0164070422000490</td>\n",
       "      <td>[[[Kristina], [Sargent], [&lt;title&gt;Person&lt;/title...</td>\n",
       "      <td>https://doi.org/10.1016/j.jmacro.2022.103454</td>\n",
       "      <td>[]</td>\n",
       "    </tr>\n",
       "  </tbody>\n",
       "</table>\n",
       "</div>"
      ],
      "text/plain": [
       "                              article_url  \\\n",
       "0  /science/article/pii/S0164070422000477   \n",
       "1  /science/article/pii/S0164070422000490   \n",
       "\n",
       "                                             authors  \\\n",
       "0  [[[Michael], [Kuhn], [<sup>b</sup>], [<sup>c</...   \n",
       "1  [[[Kristina], [Sargent], [<title>Person</title...   \n",
       "\n",
       "                                            doi keywords  \n",
       "0  https://doi.org/10.1016/j.jmacro.2022.103451       []  \n",
       "1  https://doi.org/10.1016/j.jmacro.2022.103454       []  "
      ]
     },
     "execution_count": 314,
     "metadata": {},
     "output_type": "execute_result"
    }
   ],
   "source": [
    "dta_components = pd.DataFrame(components, columns=[\"article_url\", \"authors\", \"doi\", \"keywords\"]) ### Revisar resultados en authors y keywords!!!!\n",
    "dta_components"
   ]
  },
  {
   "cell_type": "markdown",
   "metadata": {},
   "source": []
  }
 ],
 "metadata": {
  "kernelspec": {
   "display_name": "Python 3.9.7 ('env': venv)",
   "language": "python",
   "name": "python3"
  },
  "language_info": {
   "codemirror_mode": {
    "name": "ipython",
    "version": 3
   },
   "file_extension": ".py",
   "mimetype": "text/x-python",
   "name": "python",
   "nbconvert_exporter": "python",
   "pygments_lexer": "ipython3",
   "version": "3.9.7"
  },
  "orig_nbformat": 4,
  "vscode": {
   "interpreter": {
    "hash": "cd95f571a5c3e2d2b70328b0d0633948104a546c9302dee9a863aeb86b2a122c"
   }
  }
 },
 "nbformat": 4,
 "nbformat_minor": 2
}
