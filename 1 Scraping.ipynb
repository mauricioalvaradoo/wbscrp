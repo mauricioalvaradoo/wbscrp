{
 "cells": [
  {
   "cell_type": "markdown",
   "metadata": {},
   "source": [
    "## Web Scraping en el Journal of Macroeconomics\n",
    "\n",
    "El objetivo es vincularme con la página web del Journal of Macroeconomics para extraer la informacion de cada volumen, los articulos de cada uno, los autores, los links, entre otros.\n",
    "\n",
    "Voy a trabajar con un entorno virtual llamado `env`. El Driver de Chrome se puede descargar en https://sites.google.com/chromium.org/driver/downloads\n",
    " "
   ]
  },
  {
   "cell_type": "code",
   "execution_count": 1,
   "metadata": {},
   "outputs": [],
   "source": [
    "import pandas as pd\n",
    "from functions import get_html, get_volumens, get_articles, get_components\n",
    "\n",
    "import warnings\n",
    "warnings.simplefilter(\"ignore\")"
   ]
  },
  {
   "cell_type": "markdown",
   "metadata": {},
   "source": [
    "Nos vinculamos con la sección de articulos dentro del sitio web del Journal of Macroeconomics"
   ]
  },
  {
   "cell_type": "code",
   "execution_count": 2,
   "metadata": {},
   "outputs": [
    {
     "name": "stdout",
     "output_type": "stream",
     "text": [
      "CPU times: total: 219 ms\n",
      "Wall time: 1min 3s\n"
     ]
    }
   ],
   "source": [
    "%%time\n",
    "\n",
    "url_1 = \"https://www.sciencedirect.com/journal/journal-of-macroeconomics/issues?page=1\"\n",
    "url_2 = \"https://www.sciencedirect.com/journal/journal-of-macroeconomics/issues?page=2\"\n",
    "url_3 = \"https://www.sciencedirect.com/journal/journal-of-macroeconomics/issues?page=3\"\n",
    "\n",
    "page_1 = get_html(url_1)\n",
    "page_2 = get_html(url_2)\n",
    "page_3 = get_html(url_3)"
   ]
  },
  {
   "cell_type": "code",
   "execution_count": 3,
   "metadata": {},
   "outputs": [
    {
     "data": {
      "text/html": [
       "<div>\n",
       "<style scoped>\n",
       "    .dataframe tbody tr th:only-of-type {\n",
       "        vertical-align: middle;\n",
       "    }\n",
       "\n",
       "    .dataframe tbody tr th {\n",
       "        vertical-align: top;\n",
       "    }\n",
       "\n",
       "    .dataframe thead th {\n",
       "        text-align: right;\n",
       "    }\n",
       "</style>\n",
       "<table border=\"1\" class=\"dataframe\">\n",
       "  <thead>\n",
       "    <tr style=\"text-align: right;\">\n",
       "      <th></th>\n",
       "      <th>volume_name</th>\n",
       "      <th>volume_date</th>\n",
       "      <th>volume_url</th>\n",
       "    </tr>\n",
       "  </thead>\n",
       "  <tbody>\n",
       "    <tr>\n",
       "      <th>0</th>\n",
       "      <td>Volume 75</td>\n",
       "      <td>In progress (March 2023)</td>\n",
       "      <td>/journal/journal-of-macroeconomics/vol/75/suppl/C</td>\n",
       "    </tr>\n",
       "    <tr>\n",
       "      <th>1</th>\n",
       "      <td>Volume 74</td>\n",
       "      <td>December 2022</td>\n",
       "      <td>/journal/journal-of-macroeconomics/vol/74/suppl/C</td>\n",
       "    </tr>\n",
       "    <tr>\n",
       "      <th>2</th>\n",
       "      <td>Volume 73</td>\n",
       "      <td>September 2022</td>\n",
       "      <td>/journal/journal-of-macroeconomics/vol/73/suppl/C</td>\n",
       "    </tr>\n",
       "    <tr>\n",
       "      <th>3</th>\n",
       "      <td>Volume 72</td>\n",
       "      <td>June 2022</td>\n",
       "      <td>/journal/journal-of-macroeconomics/vol/72/suppl/C</td>\n",
       "    </tr>\n",
       "    <tr>\n",
       "      <th>4</th>\n",
       "      <td>Volume 71</td>\n",
       "      <td>March 2022</td>\n",
       "      <td>/journal/journal-of-macroeconomics/vol/71/suppl/C</td>\n",
       "    </tr>\n",
       "    <tr>\n",
       "      <th>...</th>\n",
       "      <td>...</td>\n",
       "      <td>...</td>\n",
       "      <td>...</td>\n",
       "    </tr>\n",
       "    <tr>\n",
       "      <th>176</th>\n",
       "      <td>Volume 2, Issue 1</td>\n",
       "      <td>Pages 1-102 (Winter 1980)</td>\n",
       "      <td>/journal/journal-of-macroeconomics/vol/2/issue/1</td>\n",
       "    </tr>\n",
       "    <tr>\n",
       "      <th>177</th>\n",
       "      <td>Volume 1, Issue 4</td>\n",
       "      <td>Pages 321-426 (Autumn 1979)</td>\n",
       "      <td>/journal/journal-of-macroeconomics/vol/1/issue/4</td>\n",
       "    </tr>\n",
       "    <tr>\n",
       "      <th>178</th>\n",
       "      <td>Volume 1, Issue 3</td>\n",
       "      <td>Pages 245-320 (Summer 1979)</td>\n",
       "      <td>/journal/journal-of-macroeconomics/vol/1/issue/3</td>\n",
       "    </tr>\n",
       "    <tr>\n",
       "      <th>179</th>\n",
       "      <td>Volume 1, Issue 2</td>\n",
       "      <td>Pages 149-243 (Spring 1979)</td>\n",
       "      <td>/journal/journal-of-macroeconomics/vol/1/issue/2</td>\n",
       "    </tr>\n",
       "    <tr>\n",
       "      <th>180</th>\n",
       "      <td>Volume 1, Issue 1</td>\n",
       "      <td>Pages 1-147 (Winter 1979)</td>\n",
       "      <td>/journal/journal-of-macroeconomics/vol/1/issue/1</td>\n",
       "    </tr>\n",
       "  </tbody>\n",
       "</table>\n",
       "<p>181 rows × 3 columns</p>\n",
       "</div>"
      ],
      "text/plain": [
       "            volume_name                  volume_date  \\\n",
       "0            Volume 75      In progress (March 2023)   \n",
       "1            Volume 74                 December 2022   \n",
       "2            Volume 73                September 2022   \n",
       "3            Volume 72                     June 2022   \n",
       "4            Volume 71                    March 2022   \n",
       "..                  ...                          ...   \n",
       "176  Volume 2, Issue 1     Pages 1-102 (Winter 1980)   \n",
       "177  Volume 1, Issue 4   Pages 321-426 (Autumn 1979)   \n",
       "178  Volume 1, Issue 3   Pages 245-320 (Summer 1979)   \n",
       "179  Volume 1, Issue 2   Pages 149-243 (Spring 1979)   \n",
       "180  Volume 1, Issue 1     Pages 1-147 (Winter 1979)   \n",
       "\n",
       "                                            volume_url  \n",
       "0    /journal/journal-of-macroeconomics/vol/75/suppl/C  \n",
       "1    /journal/journal-of-macroeconomics/vol/74/suppl/C  \n",
       "2    /journal/journal-of-macroeconomics/vol/73/suppl/C  \n",
       "3    /journal/journal-of-macroeconomics/vol/72/suppl/C  \n",
       "4    /journal/journal-of-macroeconomics/vol/71/suppl/C  \n",
       "..                                                 ...  \n",
       "176   /journal/journal-of-macroeconomics/vol/2/issue/1  \n",
       "177   /journal/journal-of-macroeconomics/vol/1/issue/4  \n",
       "178   /journal/journal-of-macroeconomics/vol/1/issue/3  \n",
       "179   /journal/journal-of-macroeconomics/vol/1/issue/2  \n",
       "180   /journal/journal-of-macroeconomics/vol/1/issue/1  \n",
       "\n",
       "[181 rows x 3 columns]"
      ]
     },
     "execution_count": 3,
     "metadata": {},
     "output_type": "execute_result"
    }
   ],
   "source": [
    "names_1, urls_1, dates_1 = get_volumens(page_1)\n",
    "names_2, urls_2, dates_2 = get_volumens(page_2)\n",
    "names_3, urls_3, dates_3 = get_volumens(page_3)\n",
    "\n",
    "names = names_1 + names_2 + names_3\n",
    "urls = urls_1 + urls_2 + urls_3\n",
    "dates = dates_1 + dates_2 + dates_3\n",
    "\n",
    "# Dataframe\n",
    "dta_volumens = pd.DataFrame({\"volume_name\": names, \"volume_date\": dates, \"volume_url\": urls})\n",
    "dta_volumens "
   ]
  },
  {
   "cell_type": "code",
   "execution_count": 4,
   "metadata": {},
   "outputs": [
    {
     "name": "stdout",
     "output_type": "stream",
     "text": [
      "CPU times: total: 13.9 s\n",
      "Wall time: 1h 32s\n"
     ]
    }
   ],
   "source": [
    "%%time\n",
    "\n",
    "urls = dta_volumens[\"volume_url\"]\n",
    "\n",
    "articles = get_articles(urls)"
   ]
  },
  {
   "cell_type": "code",
   "execution_count": 5,
   "metadata": {},
   "outputs": [
    {
     "data": {
      "text/html": [
       "<div>\n",
       "<style scoped>\n",
       "    .dataframe tbody tr th:only-of-type {\n",
       "        vertical-align: middle;\n",
       "    }\n",
       "\n",
       "    .dataframe tbody tr th {\n",
       "        vertical-align: top;\n",
       "    }\n",
       "\n",
       "    .dataframe thead th {\n",
       "        text-align: right;\n",
       "    }\n",
       "</style>\n",
       "<table border=\"1\" class=\"dataframe\">\n",
       "  <thead>\n",
       "    <tr style=\"text-align: right;\">\n",
       "      <th></th>\n",
       "      <th>volume_url</th>\n",
       "      <th>article_name</th>\n",
       "      <th>article_url</th>\n",
       "    </tr>\n",
       "  </thead>\n",
       "  <tbody>\n",
       "    <tr>\n",
       "      <th>0</th>\n",
       "      <td>/journal/journal-of-macroeconomics/vol/75/suppl/C</td>\n",
       "      <td>Access to infrastructure and women’s time allo...</td>\n",
       "      <td>/science/article/pii/S0164070422000659</td>\n",
       "    </tr>\n",
       "    <tr>\n",
       "      <th>1</th>\n",
       "      <td>/journal/journal-of-macroeconomics/vol/75/suppl/C</td>\n",
       "      <td>Unemployment insurance, recalls, and experienc...</td>\n",
       "      <td>/science/article/pii/S0164070422000751</td>\n",
       "    </tr>\n",
       "    <tr>\n",
       "      <th>2</th>\n",
       "      <td>/journal/journal-of-macroeconomics/vol/75/suppl/C</td>\n",
       "      <td>Yield curve and the macroeconomy: Evidence fro...</td>\n",
       "      <td>/science/article/pii/S0164070422000775</td>\n",
       "    </tr>\n",
       "    <tr>\n",
       "      <th>3</th>\n",
       "      <td>/journal/journal-of-macroeconomics/vol/75/suppl/C</td>\n",
       "      <td>Does wealth inequality affect the transmission...</td>\n",
       "      <td>/science/article/pii/S0164070422000672</td>\n",
       "    </tr>\n",
       "    <tr>\n",
       "      <th>4</th>\n",
       "      <td>/journal/journal-of-macroeconomics/vol/75/suppl/C</td>\n",
       "      <td>The pace of fiscal consolidations, fiscal sust...</td>\n",
       "      <td>/science/article/pii/S0164070422000787</td>\n",
       "    </tr>\n",
       "    <tr>\n",
       "      <th>...</th>\n",
       "      <td>...</td>\n",
       "      <td>...</td>\n",
       "      <td>...</td>\n",
       "    </tr>\n",
       "    <tr>\n",
       "      <th>3458</th>\n",
       "      <td>/journal/journal-of-macroeconomics/vol/1/issue/1</td>\n",
       "      <td>Deficit financing, liquidity, and the governme...</td>\n",
       "      <td>/science/article/pii/0164070479900235</td>\n",
       "    </tr>\n",
       "    <tr>\n",
       "      <th>3459</th>\n",
       "      <td>/journal/journal-of-macroeconomics/vol/1/issue/1</td>\n",
       "      <td>Bond financed fiscal policy and the problem of...</td>\n",
       "      <td>/science/article/pii/0164070479900247</td>\n",
       "    </tr>\n",
       "    <tr>\n",
       "      <th>3460</th>\n",
       "      <td>/journal/journal-of-macroeconomics/vol/1/issue/1</td>\n",
       "      <td>First-round “crowding out” in a generalized IS...</td>\n",
       "      <td>/science/article/pii/0164070479900259</td>\n",
       "    </tr>\n",
       "    <tr>\n",
       "      <th>3461</th>\n",
       "      <td>/journal/journal-of-macroeconomics/vol/1/issue/1</td>\n",
       "      <td>Money disillusion and stagflation</td>\n",
       "      <td>/science/article/pii/0164070479900260</td>\n",
       "    </tr>\n",
       "    <tr>\n",
       "      <th>3462</th>\n",
       "      <td>/journal/journal-of-macroeconomics/vol/1/issue/1</td>\n",
       "      <td>Usefulness of the newly revised composite inde...</td>\n",
       "      <td>/science/article/pii/0164070479900272</td>\n",
       "    </tr>\n",
       "  </tbody>\n",
       "</table>\n",
       "<p>3463 rows × 3 columns</p>\n",
       "</div>"
      ],
      "text/plain": [
       "                                             volume_url  \\\n",
       "0     /journal/journal-of-macroeconomics/vol/75/suppl/C   \n",
       "1     /journal/journal-of-macroeconomics/vol/75/suppl/C   \n",
       "2     /journal/journal-of-macroeconomics/vol/75/suppl/C   \n",
       "3     /journal/journal-of-macroeconomics/vol/75/suppl/C   \n",
       "4     /journal/journal-of-macroeconomics/vol/75/suppl/C   \n",
       "...                                                 ...   \n",
       "3458   /journal/journal-of-macroeconomics/vol/1/issue/1   \n",
       "3459   /journal/journal-of-macroeconomics/vol/1/issue/1   \n",
       "3460   /journal/journal-of-macroeconomics/vol/1/issue/1   \n",
       "3461   /journal/journal-of-macroeconomics/vol/1/issue/1   \n",
       "3462   /journal/journal-of-macroeconomics/vol/1/issue/1   \n",
       "\n",
       "                                           article_name  \\\n",
       "0     Access to infrastructure and women’s time allo...   \n",
       "1     Unemployment insurance, recalls, and experienc...   \n",
       "2     Yield curve and the macroeconomy: Evidence fro...   \n",
       "3     Does wealth inequality affect the transmission...   \n",
       "4     The pace of fiscal consolidations, fiscal sust...   \n",
       "...                                                 ...   \n",
       "3458  Deficit financing, liquidity, and the governme...   \n",
       "3459  Bond financed fiscal policy and the problem of...   \n",
       "3460  First-round “crowding out” in a generalized IS...   \n",
       "3461                  Money disillusion and stagflation   \n",
       "3462  Usefulness of the newly revised composite inde...   \n",
       "\n",
       "                                 article_url  \n",
       "0     /science/article/pii/S0164070422000659  \n",
       "1     /science/article/pii/S0164070422000751  \n",
       "2     /science/article/pii/S0164070422000775  \n",
       "3     /science/article/pii/S0164070422000672  \n",
       "4     /science/article/pii/S0164070422000787  \n",
       "...                                      ...  \n",
       "3458   /science/article/pii/0164070479900235  \n",
       "3459   /science/article/pii/0164070479900247  \n",
       "3460   /science/article/pii/0164070479900259  \n",
       "3461   /science/article/pii/0164070479900260  \n",
       "3462   /science/article/pii/0164070479900272  \n",
       "\n",
       "[3463 rows x 3 columns]"
      ]
     },
     "execution_count": 5,
     "metadata": {},
     "output_type": "execute_result"
    }
   ],
   "source": [
    "dta_articles = pd.DataFrame(articles, columns=[\"volume_url\", \"article_name\", \"article_url\"])\n",
    "dta_articles"
   ]
  },
  {
   "cell_type": "code",
   "execution_count": 6,
   "metadata": {},
   "outputs": [
    {
     "ename": "WebDriverException",
     "evalue": "Message: unknown error: net::ERR_NAME_NOT_RESOLVED\n  (Session info: chrome=108.0.5359.125)\nStacktrace:\nBacktrace:\n\t(No symbol) [0x00C9F243]\n\t(No symbol) [0x00C27FD1]\n\t(No symbol) [0x00B1D04D]\n\t(No symbol) [0x00B19152]\n\t(No symbol) [0x00B1044D]\n\t(No symbol) [0x00B112EF]\n\t(No symbol) [0x00B1071D]\n\t(No symbol) [0x00B0FB0B]\n\t(No symbol) [0x00B0FA5C]\n\t(No symbol) [0x00B0E7E8]\n\t(No symbol) [0x00B0EDC2]\n\t(No symbol) [0x00B1EA5B]\n\t(No symbol) [0x00B7D187]\n\t(No symbol) [0x00B6858C]\n\t(No symbol) [0x00B7C9EB]\n\t(No symbol) [0x00B68386]\n\t(No symbol) [0x00B4163C]\n\t(No symbol) [0x00B4269D]\n\tGetHandleVerifier [0x00F39A22+2655074]\n\tGetHandleVerifier [0x00F2CA24+2601828]\n\tGetHandleVerifier [0x00D48C0A+619850]\n\tGetHandleVerifier [0x00D47830+614768]\n\t(No symbol) [0x00C305FC]\n\t(No symbol) [0x00C35968]\n\t(No symbol) [0x00C35A55]\n\t(No symbol) [0x00C4051B]\n\tBaseThreadInitThunk [0x752100F9+25]\n\tRtlGetAppContainerNamedObjectPath [0x77267BBE+286]\n\tRtlGetAppContainerNamedObjectPath [0x77267B8E+238]\n",
     "output_type": "error",
     "traceback": [
      "\u001b[1;31m---------------------------------------------------------------------------\u001b[0m",
      "\u001b[1;31mWebDriverException\u001b[0m                        Traceback (most recent call last)",
      "File \u001b[1;32m<timed exec>:3\u001b[0m, in \u001b[0;36m<module>\u001b[1;34m\u001b[0m\n",
      "File \u001b[1;32mc:\\Users\\m_alv\\Documents\\Proyectos\\wbscrp_journal_macro\\functions.py:173\u001b[0m, in \u001b[0;36mget_components\u001b[1;34m(urls)\u001b[0m\n\u001b[0;32m    169\u001b[0m list_components \u001b[39m=\u001b[39m []\n\u001b[0;32m    171\u001b[0m \u001b[39mfor\u001b[39;00m i \u001b[39min\u001b[39;00m urls:\n\u001b[0;32m    172\u001b[0m     \u001b[39m# Entraendo los componentes de cada uno de los articulos\u001b[39;00m\n\u001b[1;32m--> 173\u001b[0m     soup \u001b[39m=\u001b[39m get_html(\u001b[39mf\u001b[39;49m\u001b[39m\"\u001b[39;49m\u001b[39mhttps://www.sciencedirect.com\u001b[39;49m\u001b[39m{\u001b[39;49;00mi\u001b[39m}\u001b[39;49;00m\u001b[39m\"\u001b[39;49m)\n\u001b[0;32m    176\u001b[0m     \u001b[39mtry\u001b[39;00m:\n\u001b[0;32m    177\u001b[0m         \u001b[39m# Elementos\u001b[39;00m\n\u001b[0;32m    178\u001b[0m         doi \u001b[39m=\u001b[39m soup\u001b[39m.\u001b[39mfind(\u001b[39m\"\u001b[39m\u001b[39ma\u001b[39m\u001b[39m\"\u001b[39m, {\u001b[39m\"\u001b[39m\u001b[39mclass\u001b[39m\u001b[39m\"\u001b[39m: \u001b[39m\"\u001b[39m\u001b[39mdoi\u001b[39m\u001b[39m\"\u001b[39m})\u001b[39m.\u001b[39mget(\u001b[39m\"\u001b[39m\u001b[39mhref\u001b[39m\u001b[39m\"\u001b[39m)\n",
      "File \u001b[1;32mc:\\Users\\m_alv\\Documents\\Proyectos\\wbscrp_journal_macro\\functions.py:26\u001b[0m, in \u001b[0;36mget_html\u001b[1;34m(url)\u001b[0m\n\u001b[0;32m     10\u001b[0m \u001b[39m\"\"\"\"\" Vinculacion con la seccion de articulos del sitio web\u001b[39;00m\n\u001b[0;32m     11\u001b[0m \n\u001b[0;32m     12\u001b[0m \u001b[39mParametros\u001b[39;00m\n\u001b[1;32m   (...)\u001b[0m\n\u001b[0;32m     22\u001b[0m \n\u001b[0;32m     23\u001b[0m \u001b[39m\"\"\"\u001b[39;00m\u001b[39m\"\u001b[39m\u001b[39m\"\u001b[39m\n\u001b[0;32m     25\u001b[0m driver \u001b[39m=\u001b[39m webdriver\u001b[39m.\u001b[39mChrome(\u001b[39m\"\u001b[39m\u001b[39m./driver/chromedriver.exe\u001b[39m\u001b[39m\"\u001b[39m)\n\u001b[1;32m---> 26\u001b[0m driver\u001b[39m.\u001b[39;49mget(url)\n\u001b[0;32m     28\u001b[0m \u001b[39m# Clicks a los botones\u001b[39;00m\n\u001b[0;32m     29\u001b[0m \u001b[39mfor\u001b[39;00m i \u001b[39min\u001b[39;00m \u001b[39mrange\u001b[39m(\u001b[39m1\u001b[39m, \u001b[39m30\u001b[39m):\n",
      "File \u001b[1;32mc:\\Users\\m_alv\\anaconda3\\lib\\site-packages\\selenium\\webdriver\\remote\\webdriver.py:455\u001b[0m, in \u001b[0;36mWebDriver.get\u001b[1;34m(self, url)\u001b[0m\n\u001b[0;32m    451\u001b[0m \u001b[39mdef\u001b[39;00m \u001b[39mget\u001b[39m(\u001b[39mself\u001b[39m, url: \u001b[39mstr\u001b[39m) \u001b[39m-\u001b[39m\u001b[39m>\u001b[39m \u001b[39mNone\u001b[39;00m:\n\u001b[0;32m    452\u001b[0m     \u001b[39m\"\"\"\u001b[39;00m\n\u001b[0;32m    453\u001b[0m \u001b[39m    Loads a web page in the current browser session.\u001b[39;00m\n\u001b[0;32m    454\u001b[0m \u001b[39m    \"\"\"\u001b[39;00m\n\u001b[1;32m--> 455\u001b[0m     \u001b[39mself\u001b[39;49m\u001b[39m.\u001b[39;49mexecute(Command\u001b[39m.\u001b[39;49mGET, {\u001b[39m\"\u001b[39;49m\u001b[39murl\u001b[39;49m\u001b[39m\"\u001b[39;49m: url})\n",
      "File \u001b[1;32mc:\\Users\\m_alv\\anaconda3\\lib\\site-packages\\selenium\\webdriver\\remote\\webdriver.py:444\u001b[0m, in \u001b[0;36mWebDriver.execute\u001b[1;34m(self, driver_command, params)\u001b[0m\n\u001b[0;32m    442\u001b[0m response \u001b[39m=\u001b[39m \u001b[39mself\u001b[39m\u001b[39m.\u001b[39mcommand_executor\u001b[39m.\u001b[39mexecute(driver_command, params)\n\u001b[0;32m    443\u001b[0m \u001b[39mif\u001b[39;00m response:\n\u001b[1;32m--> 444\u001b[0m     \u001b[39mself\u001b[39;49m\u001b[39m.\u001b[39;49merror_handler\u001b[39m.\u001b[39;49mcheck_response(response)\n\u001b[0;32m    445\u001b[0m     response[\u001b[39m\"\u001b[39m\u001b[39mvalue\u001b[39m\u001b[39m\"\u001b[39m] \u001b[39m=\u001b[39m \u001b[39mself\u001b[39m\u001b[39m.\u001b[39m_unwrap_value(response\u001b[39m.\u001b[39mget(\u001b[39m\"\u001b[39m\u001b[39mvalue\u001b[39m\u001b[39m\"\u001b[39m, \u001b[39mNone\u001b[39;00m))\n\u001b[0;32m    446\u001b[0m     \u001b[39mreturn\u001b[39;00m response\n",
      "File \u001b[1;32mc:\\Users\\m_alv\\anaconda3\\lib\\site-packages\\selenium\\webdriver\\remote\\errorhandler.py:249\u001b[0m, in \u001b[0;36mErrorHandler.check_response\u001b[1;34m(self, response)\u001b[0m\n\u001b[0;32m    247\u001b[0m         alert_text \u001b[39m=\u001b[39m value[\u001b[39m\"\u001b[39m\u001b[39malert\u001b[39m\u001b[39m\"\u001b[39m]\u001b[39m.\u001b[39mget(\u001b[39m\"\u001b[39m\u001b[39mtext\u001b[39m\u001b[39m\"\u001b[39m)\n\u001b[0;32m    248\u001b[0m     \u001b[39mraise\u001b[39;00m exception_class(message, screen, stacktrace, alert_text)  \u001b[39m# type: ignore[call-arg]  # mypy is not smart enough here\u001b[39;00m\n\u001b[1;32m--> 249\u001b[0m \u001b[39mraise\u001b[39;00m exception_class(message, screen, stacktrace)\n",
      "\u001b[1;31mWebDriverException\u001b[0m: Message: unknown error: net::ERR_NAME_NOT_RESOLVED\n  (Session info: chrome=108.0.5359.125)\nStacktrace:\nBacktrace:\n\t(No symbol) [0x00C9F243]\n\t(No symbol) [0x00C27FD1]\n\t(No symbol) [0x00B1D04D]\n\t(No symbol) [0x00B19152]\n\t(No symbol) [0x00B1044D]\n\t(No symbol) [0x00B112EF]\n\t(No symbol) [0x00B1071D]\n\t(No symbol) [0x00B0FB0B]\n\t(No symbol) [0x00B0FA5C]\n\t(No symbol) [0x00B0E7E8]\n\t(No symbol) [0x00B0EDC2]\n\t(No symbol) [0x00B1EA5B]\n\t(No symbol) [0x00B7D187]\n\t(No symbol) [0x00B6858C]\n\t(No symbol) [0x00B7C9EB]\n\t(No symbol) [0x00B68386]\n\t(No symbol) [0x00B4163C]\n\t(No symbol) [0x00B4269D]\n\tGetHandleVerifier [0x00F39A22+2655074]\n\tGetHandleVerifier [0x00F2CA24+2601828]\n\tGetHandleVerifier [0x00D48C0A+619850]\n\tGetHandleVerifier [0x00D47830+614768]\n\t(No symbol) [0x00C305FC]\n\t(No symbol) [0x00C35968]\n\t(No symbol) [0x00C35A55]\n\t(No symbol) [0x00C4051B]\n\tBaseThreadInitThunk [0x752100F9+25]\n\tRtlGetAppContainerNamedObjectPath [0x77267BBE+286]\n\tRtlGetAppContainerNamedObjectPath [0x77267B8E+238]\n"
     ]
    }
   ],
   "source": [
    "%%time\n",
    "\n",
    "urls = dta_articles[\"article_url\"]\n",
    "\n",
    "components = get_components(urls)"
   ]
  },
  {
   "cell_type": "code",
   "execution_count": null,
   "metadata": {},
   "outputs": [],
   "source": [
    "dta_components = pd.DataFrame(components, columns=[\"article_url\", \"authors\", \"doi\", \"keywords\"])\n",
    "dta_components"
   ]
  },
  {
   "cell_type": "markdown",
   "metadata": {},
   "source": [
    "Finalmente, se puede unir todos los resultados en un único Dataframe. Debido a que se encontrado que son muy pocos los casos en los que hay `keywords`, se prefirió descartarlo"
   ]
  },
  {
   "cell_type": "code",
   "execution_count": null,
   "metadata": {},
   "outputs": [],
   "source": [
    "dta = dta_components.merge(dta_articles, how=\"inner\").merge(dta_volumens, how=\"inner\")\n",
    "\n",
    "# Completando el nombre de los urls\n",
    "dta[\"article_url\"] = \"https://www.sciencedirect.com\" + dta[\"article_url\"].astype(str)\n",
    "dta[\"volume_url\"] = \"https://www.sciencedirect.com\" + dta[\"volume_url\"].astype(str)\n",
    "\n",
    "dta_f = dta[[\"article_name\", \"authors\", \"article_url\", \"doi\", \"volume_name\", \"volume_date\", \"volume_url\"]]\n",
    "dta_f[0:10]"
   ]
  },
  {
   "cell_type": "code",
   "execution_count": null,
   "metadata": {},
   "outputs": [],
   "source": [
    "dta_f.to_csv(\"./data/dta.csv\", sep=';')"
   ]
  }
 ],
 "metadata": {
  "kernelspec": {
   "display_name": "base",
   "language": "python",
   "name": "python3"
  },
  "language_info": {
   "codemirror_mode": {
    "name": "ipython",
    "version": 3
   },
   "file_extension": ".py",
   "mimetype": "text/x-python",
   "name": "python",
   "nbconvert_exporter": "python",
   "pygments_lexer": "ipython3",
   "version": "3.9.13"
  },
  "orig_nbformat": 4,
  "vscode": {
   "interpreter": {
    "hash": "8e9ae4e922d1665da627d7e82d9ebd68d8a22fbd339d43fd4f04fafbde0a22a7"
   }
  }
 },
 "nbformat": 4,
 "nbformat_minor": 2
}
